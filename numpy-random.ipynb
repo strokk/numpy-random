{
 "cells": [
  {
   "cell_type": "markdown",
   "metadata": {},
   "source": [
    "# Investigation into numpy.random package"
   ]
  },
  {
   "cell_type": "markdown",
   "metadata": {},
   "source": [
    "### Introduction to numpy and numpy.random"
   ]
  },
  {
   "cell_type": "markdown",
   "metadata": {},
   "source": [
    "NumPy is a library available in Python that aids in mathematical, scientific, engineering, and data analysis. NumPy is an incredible library to perform mathematical and statistical operations. It works perfectly well for multi-dimensional arrays and matrices multiplication.\n",
    "\n",
    "In an array, you can store multiple items of the same data type. It's from the facilities around the array object that makes numpy very convenient for performing math and data manipulations.\n",
    "\n",
    "Below I will be investigating the random module of the numpy package, this module provides a variety of functions to generate random numbers (and also statistical distributions) of any given shape."
   ]
  },
  {
   "cell_type": "markdown",
   "metadata": {},
   "source": [
    "#### Simple Random Data"
   ]
  },
  {
   "cell_type": "markdown",
   "metadata": {},
   "source": [
    "A simple random data is a subset of a statistical population where each member of the subset has an equal probability of being chosen. A simple random sample is meant to be an unbiased representation of a group. An example of a simple random sample would be the names of 20 employees being chosen out of a hat from a company of 200 employees. In this case, the population is all 200 employees, and the sample is random because each employee has an equal chance of being chosen.\n"
   ]
  },
  {
   "cell_type": "markdown",
   "metadata": {},
   "source": [
    "#### Permutation"
   ]
  },
  {
   "cell_type": "markdown",
   "metadata": {},
   "source": [
    "A permutation is an arrangement of all or part of a set of objects, with regard to the order of the arrangement.\n",
    "\n",
    "Example: Suppose we have a set of three letters: A, B, and C. We might ask how many ways we can arrange 2 letters from that set. Each possible arrangement would be an example of a permutation. The complete list of possible permutations would be: AB, AC, BA, BC, CA, and CB.\n",
    "\n",
    "When they refer to permutations, statisticians use a specific terminology. They describe permutations as n distinct objects taken r at a time. Translation: n refers to the number of objects from which the permutation is formed; and r refers to the number of objects used to form the permutation. Consider the example from the previous paragraph. The permutation was formed from 3 letters (A, B, and C), so n = 3; and the permutation consisted of 2 letters, so r = 2."
   ]
  },
  {
   "cell_type": "markdown",
   "metadata": {},
   "source": [
    "The permutation in Numpy has 2 functions, the shuffle(x) and the permutation(x):\n",
    "\n",
    "- shuffle(x):\n",
    "\n",
    "This function modify a sequence in-place by shuffling its contents.\n",
    "It only shuffles the array along the first axis of a multi-dimensional array. The order of sub-arrays is changed but their contents remains the same.\n",
    "\n",
    "Examples:"
   ]
  },
  {
   "cell_type": "code",
   "execution_count": 9,
   "metadata": {},
   "outputs": [
    {
     "data": {
      "text/plain": [
       "array([ 9, 10, 16,  0, 18, 17, 13, 11,  1,  5,  4, 15, 12,  2,  7, 19, 14,\n",
       "        8,  6,  3])"
      ]
     },
     "execution_count": 9,
     "metadata": {},
     "output_type": "execute_result"
    }
   ],
   "source": [
    "import numpy as np\n",
    "array = np.arange(20)\n",
    "np.random.shuffle(array)\n",
    "array"
   ]
  },
  {
   "cell_type": "markdown",
   "metadata": {},
   "source": [
    "- permutation(x):\n",
    "\n",
    "The permutation funcion randomly permute a sequence, or return a permuted range.\n",
    "If x is a multi-dimensional array, it is only shuffled along its first index.\n",
    "\n",
    "Examples:"
   ]
  },
  {
   "cell_type": "code",
   "execution_count": 6,
   "metadata": {},
   "outputs": [
    {
     "data": {
      "text/plain": [
       "array([27,  5, 23, 16,  2,  4,  0,  9, 20, 15,  8, 26,  3, 28, 11, 10, 22,\n",
       "       24, 21,  1, 14, 13, 12, 29,  6, 18,  7, 19, 17, 25])"
      ]
     },
     "execution_count": 6,
     "metadata": {},
     "output_type": "execute_result"
    }
   ],
   "source": [
    "np.random.permutation(30)"
   ]
  },
  {
   "cell_type": "code",
   "execution_count": 11,
   "metadata": {},
   "outputs": [
    {
     "data": {
      "text/plain": [
       "array([16, 14,  2,  6,  8])"
      ]
     },
     "execution_count": 11,
     "metadata": {},
     "output_type": "execute_result"
    }
   ],
   "source": [
    "np.random.permutation([2, 6, 8, 14, 16])"
   ]
  },
  {
   "cell_type": "markdown",
   "metadata": {},
   "source": [
    "#### Probability Distribution"
   ]
  },
  {
   "cell_type": "markdown",
   "metadata": {},
   "source": [
    "A probability distribution tells you what is the probability of an event of happening. Probability distributions can show simple events, like picking a card or flipping a coin. They can also show more complex events, like the probability of someone taking a new a drug that would cause side effects.\n",
    "\n",
    "There are many different types of probability distributions in statistics including:\n",
    "\n",
    "- Basic probability distributions which can be shown on a probability distribution table.\n",
    "- Binomial distributions, which have “Successes” and “Failures.”\n",
    "- Normal distributions (also called a Bell Curve).\n",
    "\n",
    "Below I will discuss in more depth 5 of the functions from numpy.random:\n",
    "\n",
    "- binomial\n",
    "- exponential\n",
    "- geometric\n",
    "- normal\n",
    "- uniform"
   ]
  },
  {
   "cell_type": "markdown",
   "metadata": {},
   "source": [
    "#### Binomial"
   ]
  },
  {
   "cell_type": "markdown",
   "metadata": {},
   "source": [
    "The binomial distribution is a probability distribution that summarizes the likelihood that a value will take one of two independent values under a given set of parameters or assumptions. The underlying assumptions of the binomial distribution are that there is only one outcome for each trial, that each trial has the same probability of success, and that each trial is mutually exclusive, or independent of each other.\n",
    "\n",
    "Samples are drawn from a binomial distribution with specified parameters, n trials and p probability of success where n an integer >= 0 and p is in the interval [0,1]. (n may be input as a float, but it is truncated to an integer in use)\n",
    "\n",
    "Examples:\n"
   ]
  },
  {
   "cell_type": "code",
   "execution_count": 11,
   "metadata": {},
   "outputs": [
    {
     "name": "stdout",
     "output_type": "stream",
     "text": [
      "[ 6 10  8 12 11  9 11  9  7 11 13  8  6  7 10 11 10 11 13 11 12  9  7  8\n",
      " 12 11 10 10 10  9 12  8 11 13 10  8  9  8 10 12 12 11  9  8 11 13  6 15\n",
      "  9 11]\n"
     ]
    }
   ],
   "source": [
    "import numpy as np\n",
    "# n = 20   # number of trials\n",
    "# p = 0.5  # probability of each trial\n",
    "example = np.random.binomial(20, 0.5, 50)\n",
    "\n",
    "print(example)\n",
    "# result of flipping a coin 10 times, tested 50 times."
   ]
  }
 ],
 "metadata": {
  "kernelspec": {
   "display_name": "Python 3",
   "language": "python",
   "name": "python3"
  },
  "language_info": {
   "codemirror_mode": {
    "name": "ipython",
    "version": 3
   },
   "file_extension": ".py",
   "mimetype": "text/x-python",
   "name": "python",
   "nbconvert_exporter": "python",
   "pygments_lexer": "ipython3",
   "version": "3.6.5"
  }
 },
 "nbformat": 4,
 "nbformat_minor": 2
}
