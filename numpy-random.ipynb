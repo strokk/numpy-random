{
 "cells": [
  {
   "cell_type": "markdown",
   "metadata": {},
   "source": [
    "# Investigation into numpy.random package"
   ]
  },
  {
   "cell_type": "markdown",
   "metadata": {},
   "source": [
    "### Introduction to numpy and numpy.random"
   ]
  },
  {
   "cell_type": "markdown",
   "metadata": {},
   "source": [
    "NumPy is a library available in Python that aids in mathematical, scientific, engineering, and data analysis. NumPy is an incredible library to perform mathematical and statistical operations. It works perfectly well for multi-dimensional arrays and matrices multiplication.\n",
    "\n",
    "In an array, you can store multiple items of the same data type. It's from the facilities around the array object that makes numpy very convenient for performing math and data manipulations.\n",
    "\n",
    "Below I will be investigating the random module of the numpy package, this module provides a variety of functions to generate random numbers (and also statistical distributions) of any given shape."
   ]
  },
  {
   "cell_type": "markdown",
   "metadata": {},
   "source": [
    "#### Simple Random Data"
   ]
  },
  {
   "cell_type": "markdown",
   "metadata": {},
   "source": [
    "A simple random data is a subset of a statistical population where each member of the subset has an equal probability of being chosen. A simple random sample is meant to be an unbiased representation of a group. An example of a simple random sample would be the names of 20 employees being chosen out of a hat from a company of 200 employees. In this case, the population is all 200 employees, and the sample is random because each employee has an equal chance of being chosen.\n"
   ]
  },
  {
   "cell_type": "markdown",
   "metadata": {},
   "source": [
    "Example:\n",
    "Suppose we would like to obtain eight random integers between 20 and 40. For this particular experiment the randint would be the best option:"
   ]
  },
  {
   "cell_type": "code",
   "execution_count": 1,
   "metadata": {},
   "outputs": [
    {
     "name": "stdout",
     "output_type": "stream",
     "text": [
      "[39 35 27 37 27 37 33 35]\n"
     ]
    }
   ],
   "source": [
    "import numpy as np\n",
    "x = np.random.randint(low=20, high=40, size=8)\n",
    "print(x)"
   ]
  },
  {
   "cell_type": "markdown",
   "metadata": {},
   "source": [
    "#### Permutation"
   ]
  },
  {
   "cell_type": "markdown",
   "metadata": {},
   "source": [
    "A permutation is an arrangement of all or part of a set of objects, with regard to the order of the arrangement.\n",
    "\n",
    "Example: Suppose we have a set of three letters: A, B, and C. We might ask how many ways we can arrange 2 letters from that set. Each possible arrangement would be an example of a permutation. The complete list of possible permutations would be: AB, AC, BA, BC, CA, and CB.\n",
    "\n",
    "When they refer to permutations, statisticians use a specific terminology. They describe permutations as n distinct objects taken r at a time. Translation: n refers to the number of objects from which the permutation is formed; and r refers to the number of objects used to form the permutation. Consider the example from the previous paragraph. The permutation was formed from 3 letters (A, B, and C), so n = 3; and the permutation consisted of 2 letters, so r = 2."
   ]
  },
  {
   "cell_type": "markdown",
   "metadata": {},
   "source": [
    "The permutation in Numpy has 2 functions, the shuffle(x) and the permutation(x):\n",
    "\n",
    "- shuffle(x):\n",
    "\n",
    "This function modify a sequence in-place by shuffling its contents.\n",
    "It only shuffles the array along the first axis of a multi-dimensional array. The order of sub-arrays is changed but their contents remains the same.\n",
    "\n",
    "Examples:"
   ]
  },
  {
   "cell_type": "code",
   "execution_count": 9,
   "metadata": {},
   "outputs": [
    {
     "data": {
      "text/plain": [
       "array([ 9, 10, 16,  0, 18, 17, 13, 11,  1,  5,  4, 15, 12,  2,  7, 19, 14,\n",
       "        8,  6,  3])"
      ]
     },
     "execution_count": 9,
     "metadata": {},
     "output_type": "execute_result"
    }
   ],
   "source": [
    "import numpy as np\n",
    "array = np.arange(20)\n",
    "np.random.shuffle(array)\n",
    "array"
   ]
  },
  {
   "cell_type": "markdown",
   "metadata": {},
   "source": [
    "- permutation(x):\n",
    "\n",
    "The permutation funcion randomly permute a sequence, or return a permuted range.\n",
    "If x is a multi-dimensional array, it is only shuffled along its first index.\n",
    "\n",
    "Examples:"
   ]
  },
  {
   "cell_type": "code",
   "execution_count": 6,
   "metadata": {},
   "outputs": [
    {
     "data": {
      "text/plain": [
       "array([27,  5, 23, 16,  2,  4,  0,  9, 20, 15,  8, 26,  3, 28, 11, 10, 22,\n",
       "       24, 21,  1, 14, 13, 12, 29,  6, 18,  7, 19, 17, 25])"
      ]
     },
     "execution_count": 6,
     "metadata": {},
     "output_type": "execute_result"
    }
   ],
   "source": [
    "np.random.permutation(30)"
   ]
  },
  {
   "cell_type": "code",
   "execution_count": 11,
   "metadata": {},
   "outputs": [
    {
     "data": {
      "text/plain": [
       "array([16, 14,  2,  6,  8])"
      ]
     },
     "execution_count": 11,
     "metadata": {},
     "output_type": "execute_result"
    }
   ],
   "source": [
    "np.random.permutation([2, 6, 8, 14, 16])"
   ]
  },
  {
   "cell_type": "markdown",
   "metadata": {},
   "source": [
    "#### Probability Distribution"
   ]
  },
  {
   "cell_type": "markdown",
   "metadata": {},
   "source": [
    "A probability distribution tells you what is the probability of an event of happening. Probability distributions can show simple events, like picking a card or flipping a coin. They can also show more complex events, like the probability of someone taking a new a drug that would cause side effects.\n",
    "\n",
    "There are many different types of probability distributions in statistics including:\n",
    "\n",
    "- Basic probability distributions which can be shown on a probability distribution table.\n",
    "- Binomial distributions, which have “Successes” and “Failures.”\n",
    "- Normal distributions (also called a Bell Curve).\n",
    "\n",
    "Below I will discuss in more depth 5 of the functions from numpy.random:\n",
    "\n",
    "- binomial\n",
    "- hypergeometric\n",
    "- multinomial\n",
    "- negative binomial\n",
    "- normal"
   ]
  },
  {
   "cell_type": "markdown",
   "metadata": {},
   "source": [
    "#### Binomial"
   ]
  },
  {
   "cell_type": "markdown",
   "metadata": {},
   "source": [
    "The binomial distribution is a probability distribution that summarizes the likelihood that a value will take one of two independent values under a given set of parameters or assumptions. The underlying assumptions of the binomial distribution are that there is only one outcome for each trial, that each trial has the same probability of success, and that each trial is mutually exclusive, or independent of each other.\n",
    "\n",
    "Samples are drawn from a binomial distribution with specified parameters, n trials and p probability of success where n an integer >= 0 and p is in the interval [0,1]. (n may be input as a float, but it is truncated to an integer in use)\n",
    "\n",
    "Examples:\n"
   ]
  },
  {
   "cell_type": "code",
   "execution_count": 1,
   "metadata": {},
   "outputs": [
    {
     "name": "stdout",
     "output_type": "stream",
     "text": [
      "[11  8  6 13  6 12  9 11 10  8 11 11 13 11 10  8 12  5  8 11 11 12 12 10\n",
      " 10 13  9  8 10  8 14  8  9 14 12 15  6 10 12 10  9  8 13 13  8 11 13 12\n",
      " 12  9]\n"
     ]
    }
   ],
   "source": [
    "import numpy as np\n",
    "# n = 20   # number of trials\n",
    "# p = 0.5  # probability of each trial\n",
    "example = np.random.binomial(20, 0.5, 50)\n",
    "\n",
    "print(example)\n",
    "# result of flipping a coin 10 times, tested 50 times."
   ]
  },
  {
   "cell_type": "markdown",
   "metadata": {},
   "source": [
    "#### Hypergeometric"
   ]
  },
  {
   "cell_type": "markdown",
   "metadata": {},
   "source": [
    "The hypergeometric distribution is used to calculate probabilities when sampling without replacement. It is a discrete probability distribution that describes the probability of k successes (random draws for which the object drawn has a specified feature) in n draws, without replacement, from a finite population of size N that contains exactly K objects with that feature, wherein each draw is either a success or a failure. In contrast, the binomial distribution describes the probability of k successes in n draws with replacement.\n",
    "\n",
    "\n",
    "\n",
    "Example:\n",
    "\n",
    "Suppose you have an urn of 20 marbles - 10 red and 10 green. You randomly select 10 marbles without replacement, how likely is it that 8 or more of them are one color?"
   ]
  },
  {
   "cell_type": "code",
   "execution_count": 15,
   "metadata": {},
   "outputs": [
    {
     "data": {
      "text/plain": [
       "0.022600000000000002"
      ]
     },
     "execution_count": 15,
     "metadata": {},
     "output_type": "execute_result"
    }
   ],
   "source": [
    "import numpy as np\n",
    "s = np.random.hypergeometric(10, 10, 10, 100000)\n",
    "sum(s>=8)/100000. + sum(s<=2)/100000 #quite unlikely"
   ]
  },
  {
   "cell_type": "markdown",
   "metadata": {},
   "source": [
    "After running this experiment, we coult compare it with the binomial experiment, but the binomial would require that the probability of success be constant on every trial. With the above experiment, the probability of a success changes on every trial."
   ]
  },
  {
   "cell_type": "markdown",
   "metadata": {},
   "source": [
    "#### Multinomial"
   ]
  },
  {
   "cell_type": "markdown",
   "metadata": {},
   "source": [
    "In order to get a multinomial distribution an event that has multiple possible outcomes is needed, with usually more than two, although there does need to be a finite number of outcomes. A good example of this would be if you were to roll a dice there would be six possible outcomes, then the next step would be to repeat the event a given number of times, then we could find the probability of any ultimate outcome.\n",
    "\n",
    "*******ex: roll a dice 5 times, find the probability to get 2 3s and 3 4s\n",
    "\n",
    "\n",
    "\n",
    "\n",
    "\n",
    "A multinomial distribution is the probability distribution of the outcomes from a multinomial experiment. The multinomial distribution is a generalization of the binomial distribution. It models the probability of counts for rolling a k-sided die n times. For n independent trials each of which leads to a success for exactly one of k categories, with each category having a given fixed success probability, the multinomial distribution gives the probability of any particular combination of numbers of successes for the various categories."
   ]
  },
  {
   "cell_type": "code",
   "execution_count": 14,
   "metadata": {
    "scrolled": true
   },
   "outputs": [
    {
     "data": {
      "text/plain": [
       "array([[1, 0, 1, 0, 1, 2],\n",
       "       [0, 2, 1, 0, 1, 1],\n",
       "       [0, 0, 0, 0, 3, 2],\n",
       "       [1, 0, 0, 1, 3, 0],\n",
       "       [2, 1, 1, 0, 1, 0],\n",
       "       [1, 1, 1, 1, 1, 0],\n",
       "       [0, 0, 0, 2, 2, 1]])"
      ]
     },
     "execution_count": 14,
     "metadata": {},
     "output_type": "execute_result"
    }
   ],
   "source": [
    "import numpy as np\n",
    "np.random.multinomial(5, [1/6.]*6, size=7)\n"
   ]
  },
  {
   "cell_type": "markdown",
   "metadata": {},
   "source": [
    "#### Negative Binomial"
   ]
  },
  {
   "cell_type": "markdown",
   "metadata": {},
   "source": [
    "The negative binomial distribution is a discrete probability distribution of the number of successes in a sequence of independent and identically distributed Bernoulli trials before a specified (non-random) number of failures (denoted r) occurs. For example, if we define a 1 as failure, all non-1s as successes, and we throw a die repeatedly until 1 appears the third time (r = three failures), then the probability distribution of the number of non-1s that appeared will be a negative binomial distribution.\n",
    "\n",
    "\n",
    "\n",
    "Example: \n",
    "A company drills wild-cat oil exploration wells, each with an estimated probability of success of 0.1. What is the probability of having one success for each successive well, that is what is the probability of a single success after drilling 5 wells, after 6 wells, etc.?"
   ]
  },
  {
   "cell_type": "code",
   "execution_count": 18,
   "metadata": {},
   "outputs": [
    {
     "name": "stdout",
     "output_type": "stream",
     "text": [
      "1 wells drilled, probability of one success = 0.0993\n",
      "2 wells drilled, probability of one success = 0.18901\n",
      "3 wells drilled, probability of one success = 0.27033\n",
      "4 wells drilled, probability of one success = 0.34332\n",
      "5 wells drilled, probability of one success = 0.4082\n",
      "6 wells drilled, probability of one success = 0.46757\n",
      "7 wells drilled, probability of one success = 0.52238\n",
      "8 wells drilled, probability of one success = 0.56995\n",
      "9 wells drilled, probability of one success = 0.6133\n",
      "10 wells drilled, probability of one success = 0.65143\n"
     ]
    }
   ],
   "source": [
    "import numpy as np\n",
    "s = np.random.negative_binomial(1, 0.1, 100000)\n",
    "for i in range(1, 11):\n",
    "    probability = sum(s<i) / 100000.\n",
    "    print(i, \"wells drilled, probability of one success =\", probability)"
   ]
  },
  {
   "cell_type": "markdown",
   "metadata": {},
   "source": [
    "#### Normal"
   ]
  },
  {
   "cell_type": "markdown",
   "metadata": {},
   "source": [
    "The normal distribution, also known as Gaussian distribution is an extremely important continuous probability distribution. Normal distributions are important in statistics and are often used in the natural and social sciences to represent real-valued random variables whose distributions are not known. It is also commonly used in technical stock market analysis and in other types of statistical analyses.\n",
    "\n",
    "The normal distribution is motivated by the Central Limit Theorem. This theory states that averages calculated from independent, identically distributed random variables have approximately normal distributions, regardless of the type of distribution that the variables are sampled from (provided it has finite variance).\n",
    "\n",
    "The normal distribution is symmetric about the mean, showing that data near the mean are more frequent in occurrence than data far from the mean and it also has a skewness of zero and a kurtosis of three, which indicates the distribution has neither fat nor thin tails. Therefore, if an observed distribution has a kurtosis greater than three, the distribution is said to have heavy tails when compared to the normal distribution. If the distribution has a kurtosis of less than three, it is said to have thin tails when compared to the normal distribution.\n",
    "\n",
    "Examples:"
   ]
  },
  {
   "cell_type": "code",
   "execution_count": 4,
   "metadata": {},
   "outputs": [
    {
     "name": "stdout",
     "output_type": "stream",
     "text": [
      "[-0.82450554  0.26931125  1.45004007  1.50373421  1.28552309]\n"
     ]
    }
   ],
   "source": [
    "# Suppose we need to generate five random numbers from the normal distribution\n",
    "import numpy as np\n",
    "x = np.random.normal(size=5)\n",
    "print(x)"
   ]
  },
  {
   "cell_type": "code",
   "execution_count": 8,
   "metadata": {},
   "outputs": [
    {
     "data": {
      "image/png": "[encoded data removed]",
      "text/plain": [
       "<Figure size 432x288 with 1 Axes>"
      ]
     },
     "metadata": {},
     "output_type": "display_data"
    }
   ],
   "source": [
    "# Another example\n",
    "import numpy as np\n",
    "mu, sigma = 0, 0.1 # mean and standard deviation\n",
    "s = np.random.normal(mu, sigma, 1000)\n",
    "\n",
    "import matplotlib.pyplot as plt\n",
    "count, bins, ignored = plt.hist(s, 30, density=True)\n",
    "plt.plot(bins, 1/(sigma * np.sqrt(2 * np.pi)) * np.exp( - (bins - mu)**2 / (2 * sigma**2) ), linewidth=2, color='r')\n",
    "plt.show()\n"
   ]
  },
  {
   "cell_type": "code",
   "execution_count": null,
   "metadata": {},
   "outputs": [],
   "source": []
  }
 ],
 "metadata": {
  "kernelspec": {
   "display_name": "Python 3",
   "language": "python",
   "name": "python3"
  },
  "language_info": {
   "codemirror_mode": {
    "name": "ipython",
    "version": 3
   },
   "file_extension": ".py",
   "mimetype": "text/x-python",
   "name": "python",
   "nbconvert_exporter": "python",
   "pygments_lexer": "ipython3",
   "version": "3.6.5"
  }
 },
 "nbformat": 4,
 "nbformat_minor": 2
}
