{
 "cells": [
  {
   "cell_type": "markdown",
   "metadata": {},
   "source": [
    "# Investigation into numpy.random package"
   ]
  },
  {
   "cell_type": "markdown",
   "metadata": {},
   "source": [
    "### Introduction to numpy and numpy.random"
   ]
  },
  {
   "cell_type": "markdown",
   "metadata": {},
   "source": [
    "<p align=\"center\"><img src=\"https://cdn-images-1.medium.com/max/1600/1*mc5YIn7jvo5uwuqBOUDw7Q.jpeg\" width=250px></p><br>"
   ]
  },
  {
   "cell_type": "markdown",
   "metadata": {},
   "source": [
    "NumPy is a library available in Python that aids in mathematical, scientific, engineering, and data analysis. NumPy is an incredible library to perform mathematical and statistical operations. It works perfectly well for multi-dimensional arrays and matrices multiplication.\n",
    "\n",
    "In an array, you can store multiple items of the same data type. It's from the facilities around the array object that makes numpy very convenient for performing math and data manipulations.\n",
    "\n",
    "Below I will be investigating the random module of the numpy package, this module provides a variety of functions to generate random numbers (and also statistical distributions) of any given shape."
   ]
  },
  {
   "cell_type": "markdown",
   "metadata": {},
   "source": [
    "#### Simple Random Data"
   ]
  },
  {
   "cell_type": "markdown",
   "metadata": {},
   "source": [
    "A simple random data is a subset of a statistical population where each member of the subset has an equal probability of being chosen. A simple random sample is meant to be an unbiased representation of a group. An example of a simple random sample would be the names of 20 employees being chosen out of a hat from a company of 200 employees. In this case, the population is all 200 employees, and the sample is random because each employee has an equal chance of being chosen.\n"
   ]
  },
  {
   "cell_type": "markdown",
   "metadata": {},
   "source": [
    "Example:\n",
    "Suppose we would like to obtain eight random integers between 20 and 40. For this particular experiment the randint would be the best option:"
   ]
  },
  {
   "cell_type": "code",
   "execution_count": 26,
   "metadata": {},
   "outputs": [
    {
     "name": "stdout",
     "output_type": "stream",
     "text": [
      "[38 29 35 34 37 27 30 23]\n"
     ]
    }
   ],
   "source": [
    "import numpy as np\n",
    "x = np.random.randint(low=20, high=40, size=8)\n",
    "print(x)"
   ]
  },
  {
   "cell_type": "markdown",
   "metadata": {},
   "source": [
    "------------"
   ]
  },
  {
   "cell_type": "markdown",
   "metadata": {},
   "source": [
    "#### Permutation"
   ]
  },
  {
   "cell_type": "markdown",
   "metadata": {},
   "source": [
    "A permutation is an arrangement of all or part of a set of objects, with regard to the order of the arrangement.\n",
    "\n",
    "Example: Suppose we have a set of three letters: A, B, and C. We might ask how many ways we can arrange 2 letters from that set. Each possible arrangement would be an example of a permutation. The complete list of possible permutations would be: AB, AC, BA, BC, CA, and CB.\n",
    "\n",
    "When they refer to permutations, statisticians use a specific terminology. They describe permutations as n distinct objects taken r at a time. Translation: n refers to the number of objects from which the permutation is formed; and r refers to the number of objects used to form the permutation. Consider the example from the previous paragraph. The permutation was formed from 3 letters (A, B, and C), so n = 3; and the permutation consisted of 2 letters, so r = 2."
   ]
  },
  {
   "cell_type": "markdown",
   "metadata": {},
   "source": [
    "The permutation in Numpy has 2 functions, the shuffle(x) and the permutation(x):\n",
    "\n",
    "- shuffle(x):\n",
    "\n",
    "This function modify a sequence in-place by shuffling its contents.\n",
    "It only shuffles the array along the first axis of a multi-dimensional array. The order of sub-arrays is changed but their contents remains the same.\n",
    "\n",
    "Examples:"
   ]
  },
  {
   "cell_type": "code",
   "execution_count": 2,
   "metadata": {},
   "outputs": [
    {
     "data": {
      "text/plain": [
       "array([10,  5,  8, 11, 16, 13, 18,  1,  3, 12, 19,  6,  4,  7, 17, 15,  2,\n",
       "       14,  9,  0])"
      ]
     },
     "execution_count": 2,
     "metadata": {},
     "output_type": "execute_result"
    }
   ],
   "source": [
    "array = np.arange(20)\n",
    "np.random.shuffle(array)\n",
    "array"
   ]
  },
  {
   "cell_type": "markdown",
   "metadata": {},
   "source": [
    "- permutation(x):\n",
    "\n",
    "The permutation funcion randomly permute a sequence, or return a permuted range.\n",
    "If x is a multi-dimensional array, it is only shuffled along its first index.\n",
    "\n",
    "Examples:"
   ]
  },
  {
   "cell_type": "code",
   "execution_count": 3,
   "metadata": {},
   "outputs": [
    {
     "data": {
      "text/plain": [
       "array([ 1,  9, 26, 21, 12, 11, 16, 13, 25, 22,  7, 24, 10,  4, 19,  3,  8,\n",
       "       14, 17, 15, 18, 23, 28,  5,  2, 29,  0,  6, 20, 27])"
      ]
     },
     "execution_count": 3,
     "metadata": {},
     "output_type": "execute_result"
    }
   ],
   "source": [
    "np.random.permutation(30)"
   ]
  },
  {
   "cell_type": "code",
   "execution_count": 28,
   "metadata": {},
   "outputs": [
    {
     "data": {
      "text/plain": [
       "array([ 8,  6, 16,  2, 14])"
      ]
     },
     "execution_count": 28,
     "metadata": {},
     "output_type": "execute_result"
    }
   ],
   "source": [
    "np.random.permutation([2, 6, 8, 14, 16])"
   ]
  },
  {
   "cell_type": "markdown",
   "metadata": {},
   "source": [
    "--------------------------------------------"
   ]
  },
  {
   "cell_type": "markdown",
   "metadata": {},
   "source": [
    "#### Probability Distribution"
   ]
  },
  {
   "cell_type": "markdown",
   "metadata": {},
   "source": [
    "A probability distribution tells you what is the probability of an event of happening. Probability distributions can show simple events, like picking a card or flipping a coin. They can also show more complex events, like the probability of someone taking a new a drug that would cause side effects.\n",
    "\n",
    "To better understand all type of distributions, first we need to understand what kind of data we can encounter, which can be discrete or continuous:\n",
    "\n",
    "Discrete Data: It can only take specified values. As an example, when you roll a die, the possible outcomes are 1, 2, 3, 4, 5 or 6 and not 2.5 or 3.45.\n",
    "\n",
    "Continuous Data: Can take any value within a given range. This range can be finite or infinite. As an example, a girl’s weight or height, the length of the road. The weight of a girl can be any value from 54 kgs, or 54.5 kgs, or 54.5436kgs.\n",
    "\n",
    "The image below demonstrates this difference:\n",
    "\n",
    "<p align=\"center\"><img src=\"https://i.imgur.com/UYXqKSB.jpg\" width=450px></p><br>\n",
    "\n",
    "\n",
    "Below I will discuss in more depth 5 of the functions from numpy.random:\n",
    "\n",
    "- Binomial\n",
    "- Hypergeometric\n",
    "- Poisson\n",
    "- Exponential\n",
    "- Normal"
   ]
  },
  {
   "cell_type": "markdown",
   "metadata": {},
   "source": [
    "#### Binomial"
   ]
  },
  {
   "cell_type": "markdown",
   "metadata": {},
   "source": [
    "<p align=\"center\"><img src=\"http://zoonek2.free.fr/UNIX/48_R/g579.png\" width=300px></p><br>\n",
    "\n",
    "The binomial distribution is a probability distribution that summarizes the likelihood that a value will take one of two independent values under a given set of parameters or assumptions. The underlying assumptions of the binomial distribution are that there is only one outcome for each trial, that each trial has the same probability of success, and that each trial is mutually exclusive, or independent of each other.\n",
    "\n",
    "Samples are drawn from a binomial distribution with specified parameters, n trials and p probability of success where n an integer >= 0 and p is in the interval [0,1]. (n may be input as a float, but it is truncated to an integer in use)\n",
    "\n",
    "Examples:\n"
   ]
  },
  {
   "cell_type": "code",
   "execution_count": 5,
   "metadata": {},
   "outputs": [
    {
     "name": "stdout",
     "output_type": "stream",
     "text": [
      "[11  7 12  7 14  9  9 11 11 10  9  9  8 12 14 12  9 12 12  7  9  9  8  7\n",
      "  9 12 10 10 11 11 11 13 12 10 10 12  9 10 13 11 13 10  9  9 10  9  7 16\n",
      " 11  8]\n"
     ]
    }
   ],
   "source": [
    "# n = 20   # number of trials\n",
    "# p = 0.5  # probability of each trial\n",
    "example = np.random.binomial(20, 0.5, 50)\n",
    "\n",
    "print(example)\n",
    "# result of flipping a coin 10 times, tested 50 times."
   ]
  },
  {
   "cell_type": "markdown",
   "metadata": {},
   "source": [
    "#### Hypergeometric"
   ]
  },
  {
   "cell_type": "markdown",
   "metadata": {},
   "source": [
    "<p align=\"center\"><img src=\"http://zoonek2.free.fr/UNIX/48_R/g569.png\" width=300px></p><br>\n",
    "\n",
    "The hypergeometric distribution is used to calculate probabilities when sampling without replacement. It is a discrete probability distribution that describes the probability of k successes (random draws for which the object drawn has a specified feature) in n draws, without replacement, from a finite population of size N that contains exactly K objects with that feature, wherein each draw is either a success or a failure. In contrast, the binomial distribution describes the probability of k successes in n draws with replacement.\n",
    "\n",
    "\n",
    "\n",
    "Example:\n",
    "\n",
    "Suppose you have an urn of 20 marbles - 10 red and 10 green. You randomly select 10 marbles without replacement, how likely is it that 8 or more of them are one color?"
   ]
  },
  {
   "cell_type": "code",
   "execution_count": 6,
   "metadata": {},
   "outputs": [
    {
     "data": {
      "text/plain": [
       "0.022940000000000002"
      ]
     },
     "execution_count": 6,
     "metadata": {},
     "output_type": "execute_result"
    }
   ],
   "source": [
    "s = np.random.hypergeometric(10, 10, 10, 100000)\n",
    "sum(s>=8)/100000. + sum(s<=2)/100000 #quite unlikely"
   ]
  },
  {
   "cell_type": "markdown",
   "metadata": {},
   "source": [
    "After running this experiment, we coult compare it with the binomial experiment, but the binomial would require that the probability of success be constant on every trial. With the above experiment, the probability of a success changes on every trial."
   ]
  },
  {
   "cell_type": "markdown",
   "metadata": {},
   "source": [
    "#### Poisson\n",
    "\n",
    "<p align=\"center\"><img src=\"http://zoonek2.free.fr/UNIX/48_R/g572.png\" width=300px></p><br>\n",
    "\n",
    "\n",
    "\n",
    "The Poisson distribution, named after French mathematician Siméon Denis Poisson, is a discrete probability distribution, meaning that the event can only be measured as occurring or not as occurring, meaning the variable can only be measured in whole numbers. Fractional occurrences of the event are not a part of the model.\n",
    "\n",
    "It expresses the probability of a given number of events occurring in a fixed interval of time or space if these events occur with a known constant rate and independently of the time since the last event. The Poisson distribution can also be used for the number of events in other specified intervals such as distance, area or volume. The Poisson Distribution has a close connection with the Binomial, Hypergeometric, and Exponential Distributions, and can be derived as an extreme case of any of them\n",
    "\n",
    "From the above explanations we can therefore confirm that the poisson distribution is usually used when we are counting the occurrences of events that seems to happen at a certain rate, but completely random, image for example, that from historical data, we know that a volcano erupts in a certain area with a rate of once every 2 years and that besides this information, the volcano eruption seems to act completely random, and we can conclude that the poisson distribution would be a good model for this particular scenario.\n",
    "\n",
    "Another modern example of the use of poisson distribution includes estimating the number of car crashes in a city of a given size, or the location of users in a wireless network\n",
    "\n",
    "\n",
    "Poisson Distribution is a limiting case of binomial distribution under the following conditions:\n",
    "\n",
    "The number of trials is indefinitely large or n → ∞.\n",
    "The probability of success for each trial is same and indefinitely small or p →0.\n",
    "np = λ, is finite.\n",
    "\n"
   ]
  },
  {
   "cell_type": "markdown",
   "metadata": {},
   "source": [
    "#### Exponential\n",
    "\n",
    "<p align=\"center\"><img src=\"https://punkrockor.files.wordpress.com/2011/02/911_exponential.jpg\" width=350px></p><br>\n",
    " \n",
    "The exponential distribution describes the time between events in a Poisson point process, in which events occur continuously and independently at a constant average rate. It is a particular case of the gamma distribution. It is the continuous analogue of the geometric distribution, and it has the key property of being memoryless. In addition to being used for the analysis of Poisson point processes it is found in various other contexts.\n",
    "The exponential distribution is strictly related to the Poisson distribution. If 1) an event can occur more than once and 2) the time elapsed between two successive occurrences is exponentially distributed and independent of previous occurrences, then the number of occurrences of the event within a given unit of time has a Poisson distribution. In other words, If the times between random events follow exponential distribution with rate λ, then the total number of events in a time period of length t follows the Poisson distribution with parameter λt.\n",
    " \n",
    " \n",
    "Examples:\n"
   ]
  },
  {
   "cell_type": "markdown",
   "metadata": {},
   "source": [
    "#### Normal"
   ]
  },
  {
   "cell_type": "markdown",
   "metadata": {},
   "source": [
    "<p align=\"center\"><img src=\"https://www.statsdirect.com/help/resources/images/normalhistogram.gif\" width=350px></p><br>\n",
    "\n",
    "The normal distribution, also known as Gaussian distribution is an extremely important continuous probability distribution. Normal distributions are important in statistics and are often used in the natural and social sciences to represent real-valued random variables whose distributions are not known. It is also commonly used in technical stock market analysis and in other types of statistical analyses.\n",
    "\n",
    "The normal distribution is motivated by the Central Limit Theorem. This theory states that averages calculated from independent, identically distributed random variables have approximately normal distributions, regardless of the type of distribution that the variables are sampled from (provided it has finite variance).\n",
    "\n",
    "The normal distribution is symmetric about the mean, showing that data near the mean are more frequent in occurrence than data far from the mean and it also has a skewness of zero and a kurtosis of three, which indicates the distribution has neither fat nor thin tails. Therefore, if an observed distribution has a kurtosis greater than three, the distribution is said to have heavy tails when compared to the normal distribution. If the distribution has a kurtosis of less than three, it is said to have thin tails when compared to the normal distribution.\n",
    "\n",
    "Normal distribution is another limiting form of binomial distribution under the following conditions:\n",
    "The number of trials is indefinitely large, n → ∞.\n",
    "\n",
    "Both p and q are not indefinitely small.\n",
    "The normal distribution is also a limiting case of Poisson distribution with the parameter λ →∞.\n",
    "\n",
    "\n",
    "Examples:"
   ]
  },
  {
   "cell_type": "code",
   "execution_count": 9,
   "metadata": {},
   "outputs": [
    {
     "name": "stdout",
     "output_type": "stream",
     "text": [
      "[-0.54670185 -1.51074298 -0.54306815  0.08452038  0.42875128]\n"
     ]
    }
   ],
   "source": [
    "# Suppose we need to generate five random numbers from the normal distribution\n",
    "x = np.random.normal(size=5)\n",
    "print(x)"
   ]
  },
  {
   "cell_type": "code",
   "execution_count": 10,
   "metadata": {},
   "outputs": [
    {
     "data": {
      "image/png": "[encoded data removed]",
      "text/plain": [
       "<Figure size 432x288 with 1 Axes>"
      ]
     },
     "metadata": {},
     "output_type": "display_data"
    }
   ],
   "source": [
    "# Another example\n",
    "mu, sigma = 0, 0.1 # mean and standard deviation\n",
    "s = np.random.normal(mu, sigma, 1000)\n",
    "\n",
    "import matplotlib.pyplot as plt\n",
    "%matplotlib inline\n",
    "count, bins, ignored = plt.hist(s, 30, density=True)\n",
    "plt.plot(bins, 1/(sigma * np.sqrt(2 * np.pi)) * np.exp( - (bins - mu)**2 / (2 * sigma**2) ), linewidth=2, color='r')\n",
    "plt.show()\n"
   ]
  },
  {
   "cell_type": "markdown",
   "metadata": {},
   "source": [
    "------------------------------------------"
   ]
  },
  {
   "cell_type": "markdown",
   "metadata": {},
   "source": [
    "#### The use of seeds in generating pseudorandom numbers"
   ]
  },
  {
   "cell_type": "markdown",
   "metadata": {},
   "source": [
    "A seed is a number used to initialize a pseudorandom number generator. Now we need to understand what exactly a pseudorandom number generator is:\n",
    "\n",
    "A pseudorandom number generator (PRNG), also known as a deterministic random bit generator (DRBG), is an algorithm for generating a sequence of numbers whose properties approximate the properties of sequences of random numbers. The PRNG-generated sequence is not truly random, because it is determined by the seed. Although sequences that are closer to truly random can be generated using hardware random number generators, pseudorandom number generators are important in practice for their speed in number generation and their reproducibility. PRNGs are central in applications such as simulations (e.g. for the Monte Carlo method), electronic games (e.g. for procedural generation), and cryptography.\n",
    "\n",
    "As a background on the history of the development of the PRNGs, in 1946, John von Neumann was running computations for the military, using a computer called the ENIAC, he planned to repeatedly calculate approximations of the processes involved in nuclear fusion and this required quick access to randomly generated numbers, but the ENIAC had limited memory, and storing long random sequences wasn't possible. Therefore Neumann developed an algorithm to mechanically simulate the scrambling aspect of randomness by selecting a truly random number, called the “seed”, this number could come from the measurement of noise, or the current time. Next this seed would be provided as input to a simple calculation, multiply the seed by itself and then output the middle of this result, then you use this output as the next seed, and repeat the process as needed. This is known today as the middle-squares method.\n",
    "\n",
    "A problem with the \"middle square\" method is that all sequences eventually repeat themselves, some very quickly, such as \"0000\". Von Neumann was aware of this, but he found the approach sufficient for his purposes, and was worried that mathematical \"fixes\" would simply hide errors rather than remove them. \n",
    "\n",
    "The middle-square method has since been supplanted by more elaborate generators. A recent innovation is to combine the middle square with a Weyl sequence. This method produces high quality output through a long period.\n",
    "\n",
    "Therefore we can confirm that a seed usually enables you to reproduce a sequence of random numbers. In a sense they are not truly random numbers but \"pseudo random numbers\", hence a PNR Generator (PNRG).\n",
    "\n",
    "The use of seeds is very useful because if your experiment uses random numbers and you want to repeat the same experiment different times, then you’ll need the same random numbers. Some such uses are as follows:\n",
    "\n",
    "- When programming and debugging it is convenient to have predictable output. Many programmers put a seed at the start of a program until writing and debugging are done.\n",
    "\n",
    "- When working on simulations. If a seed is set at the start, the simulation will get the same result every time, and others can proofread their copy of the program to make sure it gives the intended results. Then they can run their own simulations, either with their own seeds or by letting the program pick its own starting place.\n",
    "\n",
    "The choice of a good random seed is crucial in the field of computer security. When a secret encryption key is pseudo randomly generated, having the seed will allow one to obtain the key. High entropy is important for selecting good random seed data.\n",
    "\n",
    "\n",
    "Example:"
   ]
  },
  {
   "cell_type": "code",
   "execution_count": 11,
   "metadata": {},
   "outputs": [
    {
     "data": {
      "text/plain": [
       "0.39052069149174107"
      ]
     },
     "execution_count": 11,
     "metadata": {},
     "output_type": "execute_result"
    }
   ],
   "source": [
    "np.random.rand()  #no seed is set"
   ]
  },
  {
   "cell_type": "code",
   "execution_count": 12,
   "metadata": {},
   "outputs": [
    {
     "data": {
      "text/plain": [
       "array([0.90685387, 0.11253   , 0.10030013])"
      ]
     },
     "execution_count": 12,
     "metadata": {},
     "output_type": "execute_result"
    }
   ],
   "source": [
    "np.random.seed(245) #a seed is set\n",
    "np.random.rand(3) #generate three random numbers"
   ]
  },
  {
   "cell_type": "code",
   "execution_count": 29,
   "metadata": {
    "scrolled": false
   },
   "outputs": [
    {
     "data": {
      "text/plain": [
       "array([0.90685387, 0.11253   , 0.10030013])"
      ]
     },
     "execution_count": 29,
     "metadata": {},
     "output_type": "execute_result"
    }
   ],
   "source": [
    "np.random.seed(245) #same seed used\n",
    "np.random.rand(3) #same three random numbers, this ensures reproducibility"
   ]
  },
  {
   "cell_type": "code",
   "execution_count": null,
   "metadata": {},
   "outputs": [],
   "source": []
  }
 ],
 "metadata": {
  "kernelspec": {
   "display_name": "Python 3",
   "language": "python",
   "name": "python3"
  },
  "language_info": {
   "codemirror_mode": {
    "name": "ipython",
    "version": 3
   },
   "file_extension": ".py",
   "mimetype": "text/x-python",
   "name": "python",
   "nbconvert_exporter": "python",
   "pygments_lexer": "ipython3",
   "version": "3.6.5"
  }
 },
 "nbformat": 4,
 "nbformat_minor": 2
}
