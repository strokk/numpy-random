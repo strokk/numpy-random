{
 "cells": [
  {
   "cell_type": "markdown",
   "metadata": {},
   "source": [
    "# Investigation into numpy.random package"
   ]
  },
  {
   "cell_type": "markdown",
   "metadata": {},
   "source": [
    "### Introduction to numpy and numpy.random"
   ]
  },
  {
   "cell_type": "markdown",
   "metadata": {},
   "source": [
    "<p align=\"center\"><img src=\"https://cdn-images-1.medium.com/max/1600/1*mc5YIn7jvo5uwuqBOUDw7Q.jpeg\" width=250px></p><br>"
   ]
  },
  {
   "cell_type": "markdown",
   "metadata": {},
   "source": [
    "NumPy is a library available in Python that aids in mathematical, scientific, engineering, and data analysis. NumPy is an incredible library to perform mathematical and statistical operations. It works perfectly well for multi-dimensional arrays and matrices multiplication.\n",
    "\n",
    "In an array, you can store multiple items of the same data type. It's from the facilities around the array object that makes numpy very convenient for performing math and data manipulations.\n",
    "\n",
    "An important part of any simulation is the ability to generate random numbers. Exactly for this purpose, NumPy provides various functions in the submodule random. It uses a particular algorithm, called the Mersenne Twister, to generate pseudorandom numbers.\n",
    "\n",
    "First, we need to define a seed that makes the random numbers predictable. When the value is reset, the same numbers will appear every time. If we do not assign the seed, NumPy automatically selects a random seed value.\n",
    "\n",
    "Below I will be investigating the random submodule of the Numpy package, this submodule provides a variety of functions to generate random numbers (and also statistical distributions) of any given shape."
   ]
  },
  {
   "cell_type": "markdown",
   "metadata": {},
   "source": [
    "### Simple Random Data"
   ]
  },
  {
   "cell_type": "markdown",
   "metadata": {},
   "source": [
    "Sampling is usually used in studies where the population is too big and would be too timing consuming or impractical to research on the entire population, therefore researchers typically rely on sampling to acquire a section of the population to perform an experiment or observational study. The most common sampling designs are simple random sampling, stratified random sampling, and multistage random sampling, but in this investigation I will focuson the simple random sampling.\n",
    "\n",
    "A simple random data is a subset of a statistical population where each member of the subset has an equal probability of being chosen. Simple random sampling is a sampling technique where a group of subjects (a sample) is selected for study from a larger group (a population). Each subject is chosen entirely by chance and each subject of the population has an equal chance of being included in the sample. Every possible sample of a given size has the same chance of selection. A simple random sample is meant to be an unbiased representation of a group, the image below represents a simple random sampling:\n",
    "\n",
    "<p align=\"center\"><img src=\"https://faculty.elgin.edu/dkernler/statistics/ch01/images/srs.gif\" width=350px></p><br>\n",
    "\n",
    "An example of a simple random sample would be picking the names of 10 employees being chosen out of a hat from a company of 100 employees. In this scenario, the total population is 100, and the sample is random because each employee has an equal chance of being chosen.\n",
    "Another example, let's suppose we would like to obtain eight random integers between 20 and 40. For this particular experiment the randint function would be the best function to use as demonstrated below:"
   ]
  },
  {
   "cell_type": "code",
   "execution_count": 1,
   "metadata": {},
   "outputs": [
    {
     "name": "stdout",
     "output_type": "stream",
     "text": [
      "[29 26 24 25 22 24 33 22]\n"
     ]
    }
   ],
   "source": [
    "import numpy as np\n",
    "x = np.random.randint(low=20, high=40, size=8) # Generates 8 random integers between 20 and 40\n",
    "print(x)"
   ]
  },
  {
   "cell_type": "markdown",
   "metadata": {},
   "source": [
    "------------"
   ]
  },
  {
   "cell_type": "markdown",
   "metadata": {},
   "source": [
    "### Permutation"
   ]
  },
  {
   "cell_type": "markdown",
   "metadata": {},
   "source": [
    "Permutation is the act of arranging all the members of a set into a sequence or order, or if the set is already ordered, rearranging (reordering) its elements. This means that permutation differ from combinations because on the last, the order of the arrangment is not imporant. One could say that a permutation is an ordered combination.\n",
    "\n",
    "\n",
    "When referring to permutations, statisticians use a specific terminology. Permutation is described as n distinct objects taken k at a time. Meaning that n refers to the number of objects from which the permutation is formed; and k refers to the number of objects used to form the permutation. \n",
    "\n",
    "Example: Suppose we have a set of three letters: A, B, and C. We might ask how many ways we can arrange 2 letters from that set. Each possible arrangement would be an example of a permutation. The complete list of possible permutations would be: AB, AC, BA, BC, CA, and CB.\n",
    "\n",
    "<p align=\"center\"><img src=\"https://cdn-images-1.medium.com/max/1000/1*2BBrX8ej5ZIZaKR1znXmZQ.png\" width=150px></p><br>\n",
    "\n",
    "\n",
    "Considering the example above, the permutation was formed from 3 letters (A, B, and C), so n = 3; and the permutation consisted of 2 letters, so k = 2."
   ]
  },
  {
   "cell_type": "markdown",
   "metadata": {},
   "source": [
    "In Numpy there is 2 functions available to use for permutation, the shuffle(x) and the permutation(x):\n",
    "\n",
    "- shuffle(x):\n",
    "\n",
    "This function modify a sequence in-place by shuffling its contents.\n",
    "It only shuffles the array along the first axis of a multi-dimensional array. The order of sub-arrays is changed but their contents remains the same.\n",
    "\n",
    "Example:"
   ]
  },
  {
   "cell_type": "code",
   "execution_count": 2,
   "metadata": {},
   "outputs": [
    {
     "data": {
      "text/plain": [
       "array([ 7, 12,  6, 17, 11, 19,  8,  0,  5,  3, 18, 10,  4, 13, 14, 16,  2,\n",
       "       15,  9,  1])"
      ]
     },
     "execution_count": 2,
     "metadata": {},
     "output_type": "execute_result"
    }
   ],
   "source": [
    "array = np.arange(20)\n",
    "np.random.shuffle(array) # Randomly shuffling the integers 0 to 19 in the list\n",
    "array"
   ]
  },
  {
   "cell_type": "markdown",
   "metadata": {},
   "source": [
    "- permutation(x):\n",
    "\n",
    "The permutation function randomly permute a sequence, or return a permuted range.\n",
    "If x is a multi-dimensional array, it is only shuffled along its first index.\n",
    "\n",
    "Examples:"
   ]
  },
  {
   "cell_type": "code",
   "execution_count": 3,
   "metadata": {},
   "outputs": [
    {
     "data": {
      "text/plain": [
       "array([ 9,  2,  5, 13, 20, 29, 19, 15, 27, 21, 12, 10,  6,  3,  0, 18, 17,\n",
       "       24, 23,  4,  7,  8, 25,  1, 16, 28, 11, 14, 26, 22])"
      ]
     },
     "execution_count": 3,
     "metadata": {},
     "output_type": "execute_result"
    }
   ],
   "source": [
    "np.random.permutation(30)"
   ]
  },
  {
   "cell_type": "code",
   "execution_count": 4,
   "metadata": {},
   "outputs": [
    {
     "data": {
      "text/plain": [
       "array([ 6,  8, 16,  2, 14])"
      ]
     },
     "execution_count": 4,
     "metadata": {},
     "output_type": "execute_result"
    }
   ],
   "source": [
    "np.random.permutation([2, 6, 8, 14, 16])"
   ]
  },
  {
   "cell_type": "markdown",
   "metadata": {},
   "source": [
    "--------------------------------------------"
   ]
  },
  {
   "cell_type": "markdown",
   "metadata": {},
   "source": [
    "### Probability Distribution"
   ]
  },
  {
   "cell_type": "markdown",
   "metadata": {},
   "source": [
    "A probability distribution tells you what is the probability of an event of happening. Probability distributions can show simple events, like picking a card or flipping a coin. They can also show more complex events, like the probability of someone taking a new a drug and causing the person side effects.\n",
    "\n",
    "To better understand all type of distributions, first we need to understand what kind of data we can encounter, which can be discrete or continuous:\n",
    "\n",
    "- Discrete Data: It can only take specified values. As an example, when you roll a die, the possible outcomes are 1, 2, 3, 4, 5 or 6 and not 2.5 or 3.45.\n",
    "\n",
    "- Continuous Data: Can take any value within a given range. This range can be finite or infinite. For example, it could be a person's height or weight. The weight of a person could be any value, such as 64kgs, 80kgs, 101kgs.\n",
    "\n",
    "The image below demonstrates this difference:\n",
    "\n",
    "<p align=\"center\"><img src=\"https://i.imgur.com/UYXqKSB.jpg\" width=450px></p><br>\n",
    "\n",
    "\n",
    "Below I will discuss in more depth 5 of the functions from numpy.random:\n",
    "\n",
    "- Binomial\n",
    "- Hypergeometric\n",
    "- Poisson\n",
    "- Exponential\n",
    "- Normal"
   ]
  },
  {
   "cell_type": "markdown",
   "metadata": {},
   "source": [
    "#### Binomial"
   ]
  },
  {
   "cell_type": "markdown",
   "metadata": {},
   "source": [
    "<p align=\"center\"><img src=\"http://zoonek2.free.fr/UNIX/48_R/g579.png\" width=300px></p><br>\n",
    "\n",
    "The binomial distribution is a probability distribution that summarizes the likelihood that a value will take one of two independent values under a given set of parameters or assumptions. The underlying assumptions of the binomial distribution are that there is only one outcome for each trial, that each trial has the same probability of success, and that each trial is mutually exclusive, or independent of each other.\n",
    "\n",
    "Samples are drawn from a binomial distribution with specified parameters, n trials and p probability of success where n an integer >= 0 and p is in the interval [0,1]. (n may be input as a float, but it is truncated to an integer in use)\n",
    "\n",
    "Example:\n"
   ]
  },
  {
   "cell_type": "code",
   "execution_count": 5,
   "metadata": {},
   "outputs": [
    {
     "name": "stdout",
     "output_type": "stream",
     "text": [
      "[13  7  8  7  3  8  7  6 13  8 12 13 10 10 10 10  9 10  9  8  7 12  9  9\n",
      "  8  8 11  8 11 14  9  9  8 10 12 12  6 10  9 10  6 11  9 12  6 10 10  5\n",
      " 13  8]\n"
     ]
    }
   ],
   "source": [
    "# n = 20   # number of trials\n",
    "# p = 0.5  # probability of each trial\n",
    "example = np.random.binomial(20, 0.5, 50)\n",
    "\n",
    "print(example)\n",
    "# result of flipping a coin 10 times, tested 50 times."
   ]
  },
  {
   "cell_type": "markdown",
   "metadata": {},
   "source": [
    "#### Hypergeometric"
   ]
  },
  {
   "cell_type": "markdown",
   "metadata": {},
   "source": [
    "<p align=\"center\"><img src=\"http://zoonek2.free.fr/UNIX/48_R/g569.png\" width=300px></p><br>\n",
    "\n",
    "The hypergeometric distribution is used to calculate probabilities when sampling without replacement. It is a discrete probability distribution that describes the probability of k successes (random draws for which the object drawn has a specified feature) in n draws, without replacement, from a finite population of size N that contains exactly K objects with that feature, wherein each draw is either a success or a failure. In contrast, the binomial distribution describes the probability of k successes in n draws with replacement.\n",
    "\n",
    "\n",
    "\n",
    "Example:\n",
    "\n",
    "Suppose you have an urn of 20 marbles - 10 red and 10 green. You randomly select 10 marbles without replacement, how likely is it that 8 or more of them are one color?"
   ]
  },
  {
   "cell_type": "code",
   "execution_count": 6,
   "metadata": {},
   "outputs": [
    {
     "data": {
      "text/plain": [
       "0.023420000000000003"
      ]
     },
     "execution_count": 6,
     "metadata": {},
     "output_type": "execute_result"
    }
   ],
   "source": [
    "s = np.random.hypergeometric(10, 10, 10, 100000)\n",
    "sum(s>=8)/100000. + sum(s<=2)/100000 #quite unlikely"
   ]
  },
  {
   "cell_type": "markdown",
   "metadata": {},
   "source": [
    "After running this experiment, we could compare it with the binomial experiment, but the binomial would require that the probability of success be constant on every trial. With the above experiment, the probability of a success changes on every trial."
   ]
  },
  {
   "cell_type": "markdown",
   "metadata": {},
   "source": [
    "#### Poisson\n",
    "\n",
    "<p align=\"center\"><img src=\"http://zoonek2.free.fr/UNIX/48_R/g572.png\" width=300px></p><br>\n",
    "\n",
    "\n",
    "\n",
    "The Poisson distribution, named after French mathematician Siméon Denis Poisson, is a discrete probability distribution, meaning that the event can only be measured as occurring or not as occurring, meaning the variable can only be measured in whole numbers. Fractional occurrences of the event are not a part of the model.\n",
    "\n",
    "It expresses the probability of a given number of events occurring in a fixed interval of time or space if these events occur with a known constant rate and independently of the time since the last event. The Poisson distribution can also be used for the number of events in other specified intervals such as distance, area or volume. The Poisson Distribution has a close connection with the Binomial, Hypergeometric, and Exponential Distributions, and can be derived as an extreme case of any of them\n",
    "\n",
    "From the above explanations we can therefore confirm that the poisson distribution is usually used when we are counting the occurrences of events that seems to happen at a certain rate, but completely random, image for example, that from historical data, we know that a volcano erupts in a certain area with a rate of once every 2 years and that besides this information, the volcano eruption seems to act completely random, and we can conclude that the poisson distribution would be a good model for this particular scenario.\n",
    "\n",
    "Another modern example of the use of poisson distribution includes estimating the number of car crashes in a city of a given size, or the location of users in a wireless network.\n",
    "\n",
    "\n",
    "Poisson Distribution is a limiting case of binomial distribution under the following conditions:\n",
    "\n",
    "The number of trials is indefinitely large or n → ∞.\n",
    "The probability of success for each trial is same and indefinitely small or p →0.\n",
    "np = λ, is finite."
   ]
  },
  {
   "cell_type": "markdown",
   "metadata": {},
   "source": [
    "#### Exponential\n",
    "\n",
    "<p align=\"center\"><img src=\"https://punkrockor.files.wordpress.com/2011/02/911_exponential.jpg\" width=350px></p><br>\n",
    " \n",
    "The exponential distribution describes the time between events in a Poisson point process, in which events occur continuously and independently at a constant average rate. It is a particular case of the gamma distribution. It is the continuous analogue of the geometric distribution, and it has the key property of being memoryless. In addition to being used for the analysis of Poisson point processes it is found in various other contexts.\n",
    "\n",
    "The exponential distribution is strictly related to the Poisson distribution. If 1) an event can occur more than once and 2) the time elapsed between two successive occurrences is exponentially distributed and independent of previous occurrences, then the number of occurrences of the event within a given unit of time has a Poisson distribution. In other words, If the times between random events follow exponential distribution with rate λ, then the total number of events in a time period of length t follows the Poisson distribution with parameter λt.\n",
    " \n",
    "As an example of the use of Exponential distribution is the amount of time until an earthquake occurs. Another examples could be the amount of time, in months, that a car battery lasts. The exponential distribution is widely used in the field of reliability, which deals with the amount of time a product lasts.\n"
   ]
  },
  {
   "cell_type": "markdown",
   "metadata": {},
   "source": [
    "#### Normal"
   ]
  },
  {
   "cell_type": "markdown",
   "metadata": {},
   "source": [
    "<p align=\"center\"><img src=\"https://www.statsdirect.com/help/resources/images/normalhistogram.gif\" width=350px></p><br>\n",
    "\n",
    "The normal distribution, also known as Gaussian distribution is an extremely important continuous probability distribution. Normal distributions are important in statistics and are often used in the natural and social sciences to represent real-valued random variables whose distributions are not known. It is also commonly used in technical stock market analysis and in other types of statistical analyses.\n",
    "\n",
    "The normal distribution is motivated by the Central Limit Theorem. This theory states that averages calculated from independent, identically distributed random variables have approximately normal distributions, regardless of the type of distribution that the variables are sampled from (provided it has finite variance).\n",
    "\n",
    "The normal distribution is symmetric about the mean, showing that data near the mean are more frequent in occurrence than data far from the mean and it also has a skewness of zero and a kurtosis of three, which indicates the distribution has neither fat nor thin tails. Therefore, if an observed distribution has a kurtosis greater than three, the distribution is said to have heavy tails when compared to the normal distribution. If the distribution has a kurtosis of less than three, it is said to have thin tails when compared to the normal distribution.\n",
    "\n",
    "Normal distribution is another limiting form of binomial distribution under the following conditions:\n",
    "The number of trials is indefinitely large, n → ∞.\n",
    "\n",
    "Both p and q are not indefinitely small.\n",
    "The normal distribution is also a limiting case of Poisson distribution with the parameter λ →∞.\n",
    "\n",
    "\n",
    "Examples:"
   ]
  },
  {
   "cell_type": "code",
   "execution_count": 7,
   "metadata": {},
   "outputs": [
    {
     "name": "stdout",
     "output_type": "stream",
     "text": [
      "[-0.74513192 -0.11178286 -0.43976286  0.04086536 -0.23252282]\n"
     ]
    }
   ],
   "source": [
    "# Suppose we need to generate five random numbers from the normal distribution\n",
    "x = np.random.normal(size=5)\n",
    "print(x)"
   ]
  },
  {
   "cell_type": "code",
   "execution_count": 8,
   "metadata": {},
   "outputs": [
    {
     "data": {
      "image/png": "[encoded data removed]",
      "text/plain": [
       "<Figure size 432x288 with 1 Axes>"
      ]
     },
     "metadata": {},
     "output_type": "display_data"
    }
   ],
   "source": [
    "# Another example\n",
    "mu, sigma = 0, 0.1 # mean and standard deviation\n",
    "s = np.random.normal(mu, sigma, 1000)\n",
    "\n",
    "import matplotlib.pyplot as plt\n",
    "%matplotlib inline\n",
    "count, bins, ignored = plt.hist(s, 30, density=True)\n",
    "plt.plot(bins, 1/(sigma * np.sqrt(2 * np.pi)) * np.exp( - (bins - mu)**2 / (2 * sigma**2) ), linewidth=2, color='r')\n",
    "plt.show()\n"
   ]
  },
  {
   "cell_type": "markdown",
   "metadata": {},
   "source": [
    "------------------------------------------"
   ]
  },
  {
   "cell_type": "markdown",
   "metadata": {},
   "source": [
    "### The use of seeds in generating pseudorandom numbers"
   ]
  },
  {
   "cell_type": "markdown",
   "metadata": {},
   "source": [
    "A seed is a number used to initialize a pseudorandom number generator. Now we need to understand what exactly a pseudorandom number generator is:\n",
    "\n",
    "A pseudorandom number generator (PRNG), also known as a deterministic random bit generator (DRBG), is an algorithm for generating a sequence of numbers whose properties approximate the properties of sequences of random numbers. The PRNG-generated sequence is not truly random, because it is determined by the seed. Although sequences that are closer to truly random can be generated using hardware random number generators, pseudorandom number generators are important in practice for their speed in number generation and their reproducibility. PRNGs are central in applications such as simulations (e.g. for the Monte Carlo method), electronic games (e.g. for procedural generation), and cryptography.\n",
    "\n",
    "As a background on the history of the development of the PRNGs, in 1946, John von Neumann was running computations for the military, using a computer called the ENIAC, he planned to repeatedly calculate approximations of the processes involved in nuclear fusion and this required quick access to randomly generated numbers, but the ENIAC had limited memory, and storing long random sequences wasn't possible. Therefore Neumann developed an algorithm to mechanically simulate the scrambling aspect of randomness by selecting a truly random number, called the “seed”, this number could come from the measurement of noise, or the current time. Next this seed would be provided as input to a simple calculation, multiply the seed by itself and then output the middle of this result, then you use this output as the next seed, and repeat the process as needed. This is known today as the middle-squares method.\n",
    "\n",
    "A problem with the \"middle square\" method is that all sequences eventually repeat themselves, some very quickly, such as \"0000\". Von Neumann was aware of this, but he found the approach sufficient for his purposes, and was worried that mathematical \"fixes\" would simply hide errors rather than remove them. \n",
    "\n",
    "The middle-square method has since been supplanted by more elaborate generators. A recent innovation is to combine the middle square with a Weyl sequence. This method produces high quality output through a long period.\n",
    "\n",
    "Therefore we can confirm that a seed usually enables you to reproduce a sequence of random numbers. In a sense they are not truly random numbers but \"pseudo random numbers\", hence a PNR Generator (PNRG).\n",
    "\n",
    "The use of seeds is very useful because if your experiment uses random numbers and you want to repeat the same experiment different times, then you’ll need the same random numbers. Some such uses are as follows:\n",
    "\n",
    "- When programming and debugging it is convenient to have predictable output. Many programmers put a seed at the start of a program until writing and debugging are done.\n",
    "\n",
    "- When working on simulations. If a seed is set at the start, the simulation will get the same result every time, and others can proofread their copy of the program to make sure it gives the intended results. Then they can run their own simulations, either with their own seeds or by letting the program pick its own starting place.\n",
    "\n",
    "The choice of a good random seed is crucial in the field of computer security. When a secret encryption key is pseudo randomly generated, having the seed will allow one to obtain the key. High entropy is important for selecting good random seed data.\n",
    "\n",
    "\n",
    "Example:"
   ]
  },
  {
   "cell_type": "code",
   "execution_count": 9,
   "metadata": {},
   "outputs": [
    {
     "data": {
      "text/plain": [
       "0.6823460055485283"
      ]
     },
     "execution_count": 9,
     "metadata": {},
     "output_type": "execute_result"
    }
   ],
   "source": [
    "np.random.rand()  #no seed is set"
   ]
  },
  {
   "cell_type": "code",
   "execution_count": 10,
   "metadata": {},
   "outputs": [
    {
     "data": {
      "text/plain": [
       "array([0.90685387, 0.11253   , 0.10030013])"
      ]
     },
     "execution_count": 10,
     "metadata": {},
     "output_type": "execute_result"
    }
   ],
   "source": [
    "np.random.seed(245) #a seed is set\n",
    "np.random.rand(3) #generate three random numbers"
   ]
  },
  {
   "cell_type": "code",
   "execution_count": 11,
   "metadata": {
    "scrolled": false
   },
   "outputs": [
    {
     "data": {
      "text/plain": [
       "array([0.90685387, 0.11253   , 0.10030013])"
      ]
     },
     "execution_count": 11,
     "metadata": {},
     "output_type": "execute_result"
    }
   ],
   "source": [
    "np.random.seed(245) #same seed used\n",
    "np.random.rand(3) #same three random numbers, this ensures reproducibility"
   ]
  }
 ],
 "metadata": {
  "kernelspec": {
   "display_name": "Python 3",
   "language": "python",
   "name": "python3"
  },
  "language_info": {
   "codemirror_mode": {
    "name": "ipython",
    "version": 3
   },
   "file_extension": ".py",
   "mimetype": "text/x-python",
   "name": "python",
   "nbconvert_exporter": "python",
   "pygments_lexer": "ipython3",
   "version": "3.6.5"
  }
 },
 "nbformat": 4,
 "nbformat_minor": 2
}
